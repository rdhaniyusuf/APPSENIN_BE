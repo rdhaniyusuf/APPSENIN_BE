{
 "cells": [
  {
   "cell_type": "code",
   "execution_count": 1,
   "metadata": {},
   "outputs": [],
   "source": [
    "import os\n",
    "import time\n",
    "import datetime\n",
    "from selenium import webdriver\n",
    "from selenium.webdriver.chrome.service import Service\n",
    "from selenium.webdriver.common.by import By\n",
    "from selenium.webdriver.chrome.options import Options\n",
    "from webdriver_manager.chrome import ChromeDriverManager\n",
    "from selenium.webdriver.support.ui import WebDriverWait\n",
    "from selenium.webdriver.support import expected_conditions as EC\n",
    "from selenium.webdriver.common.keys import Keys"
   ]
  },
  {
   "cell_type": "code",
   "execution_count": null,
   "metadata": {},
   "outputs": [],
   "source": [
    "# Set Chrome options for headless mode\n",
    "chrome_options = Options()\n",
    "# Jalan tanpa UI\n",
    "chrome_options.add_argument(\"--headless\")\n",
    "\n",
    "chrome_options.add_argument(\"--window-size=1920,1080\")\n",
    "# User Agent\n",
    "chrome_options.add_argument(\n",
    "    \"user-agent=Mozilla/5.0 (Windows NT 10.0; Win64; x64) AppleWebKit/537.36 (KHTML, like Gecko) Chrome/120 Safari/537.36\"\n",
    ")"
   ]
  },
  {
   "cell_type": "code",
   "execution_count": 3,
   "metadata": {},
   "outputs": [],
   "source": [
    "email = \"rahmadhani.yusuf@iconpln.co.id\"\n",
    "password = \"Bii$yelo022025\""
   ]
  },
  {
   "cell_type": "code",
   "execution_count": 4,
   "metadata": {},
   "outputs": [
    {
     "name": "stdout",
     "output_type": "stream",
     "text": [
      "eyJhbGciOiJIUzI1NiIsInppcCI6IkdaSVAifQ.H4sIAAAAAAAAAF1Ty07bUBD9lchriu_7we7OfagRCKKSqptsHOymJsa2YqcCIf69kxtoK-zVnJnxmZlz_FpMx21xVbxuirbeFFfMCG4vNsVxag599dQgtCnIM2EkP0lASNF5BUQzrU3kKoGxVEqg2grqFbWQQiSRBB2SktRGSIpGosBKwhIF4bw1NDpggSswSetoBImBsED1pkBu5K0-8WodIDkIhDouk5bIEyPxRHog3lOmGfVaSxe4FBLAK2NNUsxbYikkBj4ShzNLb5kglIMP2kDyJhjpYwxn3uapartPxApLQoiGWim9O60AjKjotSUBhEk0JOm4kNZqwZyUjCqrnQtCSyG8CJwlQSU1FihI6gSypoRf5R7PSBzeQeAszACVXrLEQUWB_ZYlyZWN7HyQdp_HYuQ0PRHmDA-HXdW3UzW1OetcRrvf3XtIeH4pkTlxGLpmedKYUvserl_Gk8L0Pbz9ENzVT22_WLf7Zs6t27au-l1O3cfr--VidXO7cKub5bXD4Pru2-rum1vn0g_jwEsupxl8rLbVXPUZWUf_9Xbp3c3i_vsK-85t-6arkBMrCEZz0zXj0H82n4zJamm9tegYwfFMKCqqiFYyXggw0cUUUHGsEVrjYWMAFBodl6RiNoEVyXtIaIQQVKAokVaAGkTNlfhrvhUuu2u7PHB_7LrTWocuDfOQJ_o1z-N0VZbNNI3dcbpsH4Z-7PrLh-GyrT_QLw91X3ZDVZc_264pT9KVvHSu_F-X8nHclbIWDVE2s4-P8_4faTfshuP8o9meD7cp3oqLoq1mVExzNCTFH--iaJ7HM6C44VS-_QHSVfMV0wMAAA.ZOeoiU0pQOZmbdDJAOFgfQOyyd54Eej2ahJsNqtxFsE\n"
     ]
    }
   ],
   "source": [
    "driver = webdriver.Chrome(service=Service(ChromeDriverManager().install()), options=chrome_options)\n",
    "\n",
    "url = os.getenv(\"ABSEN_LINK\")\n",
    "driver.get(url)\n",
    "\n",
    "username_input = WebDriverWait(driver, 30).until(\n",
    "    EC.visibility_of_element_located((By.XPATH, \".//*/form/div[3]/div/input\"))\n",
    ")\n",
    "# username_input.send_keys(os.getenv(\"USER_NAME_LINK\"))\n",
    "username_input.send_keys(email)\n",
    "\n",
    "password_input = WebDriverWait(driver, 30).until(\n",
    "\tEC.visibility_of_element_located((By.XPATH, \".//*/form/div[4]/div/div/input\"))\n",
    ")\n",
    "# password_input.send_keys(os.getenv(\"PASSWORD_LINK\"))\n",
    "password_input.send_keys(password)\n",
    "\n",
    "login_button = WebDriverWait(driver, 30).until(\n",
    "\tEC.visibility_of_element_located((By.XPATH, \".//*/form/div[5]/div/button\"))\n",
    ")\n",
    "time.sleep(1)\n",
    "login_button.click()\n",
    "\n",
    "# Wait for the login to complete\n",
    "time.sleep(5)\n",
    "# klik menu absen kehadiran\n",
    "# kedisplinan_menu = WebDriverWait(driver, 30).until(\n",
    "# \tEC.visibility_of_element_located((By.XPATH, \"//*/div[1]/div[1]/ul/div[3]/div[1]/div\"))\n",
    "# )\n",
    "# time.sleep(2)\n",
    "# kedisplinan_menu.click()\n",
    "\n",
    "session_token = driver.execute_script(\"return localStorage.getItem('token');\")\n",
    "print(session_token)\n",
    "\n",
    "driver.quit()"
   ]
  },
  {
   "cell_type": "code",
   "execution_count": 5,
   "metadata": {},
   "outputs": [],
   "source": [
    "import requests\n",
    "\n",
    "# payload = {\"bulan\":2,\"idPegawai\":\"28439\",\"tahun\":2025}\n",
    "\n",
    "# headers = {\n",
    "#     \"accept\": \"application/json, text/plain, */*\",\n",
    "#     \"accept-encoding\": \"gzip, deflate, br, zstd\",\n",
    "#     \"accept-language\": \"en-US,en;q=0.5\",\n",
    "#     \"authorization\": f\"Bearer {session_token}\",\n",
    "#     \"cache-control\": \"no-cache\",\n",
    "#     \"connection\": \"keep-alive\",\n",
    "#     \"content-length\": \"201\",\n",
    "#     \"content-type\": \"application/json\",\n",
    "#     \"cookie\": \"cookiesession1=678B28C8BEA07E0F879E785286A0E134\",\n",
    "#     \"host\": \"iofficeplus.iconpln.co.id\",\n",
    "#     \"origin\": \"https://iofficeplus.iconpln.co.id\",\n",
    "#     \"pragma\": \"no-cache\",\n",
    "#     \"referer\": \"https://iofficeplus.iconpln.co.id/backoffice/attendance\",\n",
    "#     \"sec-ch-ua\": '\"Not(A:Brand\";v=\"99\", \"Brave\";v=\"133\", \"Chromium\";v=\"133\"',\n",
    "#     \"sec-ch-ua-mobile\": \"?0\",\n",
    "#     \"sec-ch-ua-platform\": '\"Windows\"',\n",
    "#     \"sec-fetch-dest\": \"empty\",\n",
    "#     \"sec-fetch-mode\": \"cors\",\n",
    "#     \"sec-fetch-site\": \"same-origin\",\n",
    "#     \"sec-gpc\": \"1\",\n",
    "#     \"user-agent\": \"Mozilla/5.0 (Windows NT 10.0; Win64; x64) AppleWebKit/537.36 (KHTML, like Gecko) Chrome/133.0.0.0 Safari/537.36\"\n",
    "# }\n",
    "\n",
    "# req = requests.get(\n",
    "#     \"https://iofficeplus.iconpln.co.id/v1/backoffice/absensi/backoffice/acuan_cuti_detail\",\n",
    "#     headers=headers,\n",
    "#     params=payload\n",
    "# )"
   ]
  },
  {
   "cell_type": "code",
   "execution_count": 25,
   "metadata": {},
   "outputs": [],
   "source": [
    "import base64\n",
    "import json\n",
    "import zlib\n",
    "\n",
    "header_b64, payload_b64, signature_b64 = session_token.split('.')\n",
    "# Decode Header\n",
    "header_json = base64.urlsafe_b64decode(header_b64 + \"==\").decode(\"utf-8\")\n",
    "header = json.loads(header_json)\n",
    "\n",
    "# Decode Payload (Gunakan zlib karena payload terkompresi)\n",
    "compressed_payload = base64.urlsafe_b64decode(payload_b64 + \"==\")\n",
    "decompressed_payload = zlib.decompress(compressed_payload, wbits=16+zlib.MAX_WBITS).decode(\"utf-8\")\n",
    "payloads = json.loads(decompressed_payload)\n",
    "\n",
    "id = json.loads(payloads['sub']).get('id')"
   ]
  },
  {
   "cell_type": "code",
   "execution_count": 29,
   "metadata": {},
   "outputs": [
    {
     "name": "stdout",
     "output_type": "stream",
     "text": [
      "Status Code: 200\n",
      "Response: [{'hariTanggal': 'Sabtu, 01 Feb 2025', 'jadwal': 'Day Off', 'jamMasuk': '-', 'jamKeluar': '-', 'status': '-', 'keterangan': '-', 'jkp': '-', 'jks': '-', 'koreksi': '-'}, {'hariTanggal': 'Minggu, 02 Feb 2025', 'jadwal': 'Day Off', 'jamMasuk': '-', 'jamKeluar': '-', 'status': '-', 'keterangan': '-', 'jkp': '-', 'jks': '-', 'koreksi': '-'}, {'hariTanggal': 'Senin, 03 Feb 2025', 'jadwal': '08.17.09 - 17.17.09', 'jamMasuk': '03-02-2025 08.17.09', 'jamKeluar': '03-02-2025 19.45.26', 'status': 'WFO', 'keterangan': '-', 'jkp': '8,00', 'jks': '8,00', 'koreksi': '-'}, {'hariTanggal': 'Selasa, 04 Feb 2025', 'jadwal': '08.17.09 - 17.17.09', 'jamMasuk': '04-02-2025 08.17.09', 'jamKeluar': '04-02-2025 18.43.24', 'status': 'WFO', 'keterangan': '-', 'jkp': '8,00', 'jks': '8,00', 'koreksi': '-'}, {'hariTanggal': 'Rabu, 05 Feb 2025', 'jadwal': '08.00.00 - 17.00.00', 'jamMasuk': '05-02-2025 06.48.00', 'jamKeluar': '05-02-2025 18.21.32', 'status': 'WFO', 'keterangan': '-', 'jkp': '8,00', 'jks': '8,00', 'koreksi': '-'}, {'hariTanggal': 'Kamis, 06 Feb 2025', 'jadwal': '08.00.00 - 17.00.00', 'jamMasuk': '06-02-2025 07.00.29', 'jamKeluar': '06-02-2025 17.33.14', 'status': 'WFO', 'keterangan': '-', 'jkp': '8,00', 'jks': '8,00', 'koreksi': '-'}, {'hariTanggal': 'Jumat, 07 Feb 2025', 'jadwal': '07.30.00 - 17.00.00', 'jamMasuk': '07-02-2025 07.08.41', 'jamKeluar': '07-02-2025 18.41.32', 'status': 'WFO', 'keterangan': '-', 'jkp': '8,00', 'jks': '8,00', 'koreksi': '-'}, {'hariTanggal': 'Sabtu, 08 Feb 2025', 'jadwal': 'Day Off', 'jamMasuk': '-', 'jamKeluar': '-', 'status': '-', 'keterangan': '-', 'jkp': '-', 'jks': '-', 'koreksi': '-'}, {'hariTanggal': 'Minggu, 09 Feb 2025', 'jadwal': 'Day Off', 'jamMasuk': '-', 'jamKeluar': '-', 'status': '-', 'keterangan': '-', 'jkp': '-', 'jks': '-', 'koreksi': '-'}, {'hariTanggal': 'Senin, 10 Feb 2025', 'jadwal': '08.00.00 - 17.00.00', 'jamMasuk': '10-02-2025 07.19.51', 'jamKeluar': '10-02-2025 20.00.42', 'status': 'WFO', 'keterangan': '-', 'jkp': '8,00', 'jks': '8,00', 'koreksi': '-'}, {'hariTanggal': 'Selasa, 11 Feb 2025', 'jadwal': '08.00.00 - 17.00.00', 'jamMasuk': '11-02-2025 07.08.20', 'jamKeluar': '11-02-2025 20.00.38', 'status': 'WFO', 'keterangan': '-', 'jkp': '8,00', 'jks': '8,00', 'koreksi': '-'}, {'hariTanggal': 'Rabu, 12 Feb 2025', 'jadwal': '08.00.00 - 17.00.00', 'jamMasuk': '12-02-2025 07.26.25', 'jamKeluar': '12-02-2025 21.20.58', 'status': 'WFO', 'keterangan': '-', 'jkp': '8,00', 'jks': '8,00', 'koreksi': '-'}, {'hariTanggal': 'Kamis, 13 Feb 2025', 'jadwal': '08.00.00 - 17.00.00', 'jamMasuk': '13-02-2025 07.13.40', 'jamKeluar': '13-02-2025 18.29.36', 'status': 'WFO', 'keterangan': '-', 'jkp': '8,00', 'jks': '8,00', 'koreksi': '-'}, {'hariTanggal': 'Jumat, 14 Feb 2025', 'jadwal': '07.43.10 - 17.13.10', 'jamMasuk': '14-02-2025 07.43.10', 'jamKeluar': '14-02-2025 20.08.15', 'status': 'WFO', 'keterangan': '-', 'jkp': '8,00', 'jks': '8,00', 'koreksi': '-'}, {'hariTanggal': 'Sabtu, 15 Feb 2025', 'jadwal': 'Day Off', 'jamMasuk': '-', 'jamKeluar': '-', 'status': '-', 'keterangan': '-', 'jkp': '-', 'jks': '-', 'koreksi': '-'}, {'hariTanggal': 'Minggu, 16 Feb 2025', 'jadwal': 'Day Off', 'jamMasuk': '-', 'jamKeluar': '-', 'status': '-', 'keterangan': '-', 'jkp': '-', 'jks': '-', 'koreksi': '-'}, {'hariTanggal': 'Senin, 17 Feb 2025', 'jadwal': '08.00.00 - 17.00.00', 'jamMasuk': '-', 'jamKeluar': '-', 'status': '-', 'keterangan': 'Soon', 'jkp': '0,00', 'jks': '8,00', 'koreksi': '-'}, {'hariTanggal': 'Selasa, 18 Feb 2025', 'jadwal': '08.00.00 - 17.00.00', 'jamMasuk': '-', 'jamKeluar': '-', 'status': '-', 'keterangan': 'Soon', 'jkp': '0,00', 'jks': '8,00', 'koreksi': '-'}, {'hariTanggal': 'Rabu, 19 Feb 2025', 'jadwal': '08.00.00 - 17.00.00', 'jamMasuk': '-', 'jamKeluar': '-', 'status': '-', 'keterangan': 'Soon', 'jkp': '0,00', 'jks': '8,00', 'koreksi': '-'}, {'hariTanggal': 'Kamis, 20 Feb 2025', 'jadwal': '08.00.00 - 17.00.00', 'jamMasuk': '-', 'jamKeluar': '-', 'status': '-', 'keterangan': 'Soon', 'jkp': '0,00', 'jks': '8,00', 'koreksi': '-'}, {'hariTanggal': 'Jumat, 21 Feb 2025', 'jadwal': '07.30.00 - 17.00.00', 'jamMasuk': '-', 'jamKeluar': '-', 'status': '-', 'keterangan': 'Soon', 'jkp': '0,00', 'jks': '8,00', 'koreksi': '-'}, {'hariTanggal': 'Sabtu, 22 Feb 2025', 'jadwal': 'Day Off', 'jamMasuk': '-', 'jamKeluar': '-', 'status': '-', 'keterangan': '-', 'jkp': '-', 'jks': '-', 'koreksi': '-'}, {'hariTanggal': 'Minggu, 23 Feb 2025', 'jadwal': 'Day Off', 'jamMasuk': '-', 'jamKeluar': '-', 'status': '-', 'keterangan': '-', 'jkp': '-', 'jks': '-', 'koreksi': '-'}, {'hariTanggal': 'Senin, 24 Feb 2025', 'jadwal': '08.00.00 - 17.00.00', 'jamMasuk': '-', 'jamKeluar': '-', 'status': '-', 'keterangan': 'Soon', 'jkp': '0,00', 'jks': '8,00', 'koreksi': '-'}, {'hariTanggal': 'Selasa, 25 Feb 2025', 'jadwal': '08.00.00 - 17.00.00', 'jamMasuk': '-', 'jamKeluar': '-', 'status': '-', 'keterangan': 'Soon', 'jkp': '0,00', 'jks': '8,00', 'koreksi': '-'}, {'hariTanggal': 'Rabu, 26 Feb 2025', 'jadwal': '08.00.00 - 17.00.00', 'jamMasuk': '-', 'jamKeluar': '-', 'status': '-', 'keterangan': 'Soon', 'jkp': '0,00', 'jks': '8,00', 'koreksi': '-'}, {'hariTanggal': 'Kamis, 27 Feb 2025', 'jadwal': '08.00.00 - 17.00.00', 'jamMasuk': '-', 'jamKeluar': '-', 'status': '-', 'keterangan': 'Soon', 'jkp': '0,00', 'jks': '8,00', 'koreksi': '-'}, {'hariTanggal': 'Jumat, 28 Feb 2025', 'jadwal': '07.30.00 - 17.00.00', 'jamMasuk': '-', 'jamKeluar': '-', 'status': '-', 'keterangan': 'Soon', 'jkp': '0,00', 'jks': '8,00', 'koreksi': '-'}]\n"
     ]
    }
   ],
   "source": [
    "import requests\n",
    "\n",
    "url = \"https://iofficeplus.iconpln.co.id/v1/backoffice/absensi/backoffice/kehadiran_detail/v1\"\n",
    "headers = {\n",
    "    \"Authorization\": f\"Bearer {session_token}\",\n",
    "    \"Content-Type\": \"application/json\"\n",
    "}\n",
    "payload = {\"bulan\": 2, \"idPegawai\": f\"{id}\", \"tahun\": 2025}\n",
    "\n",
    "response = requests.post(url, headers=headers, json=payload) \n",
    "\n",
    "print(\"Status Code:\", response.status_code)\n",
    "print(\"Response:\", response.json()['data'])"
   ]
  },
  {
   "cell_type": "code",
   "execution_count": null,
   "metadata": {},
   "outputs": [],
   "source": []
  }
 ],
 "metadata": {
  "kernelspec": {
   "display_name": "env",
   "language": "python",
   "name": "python3"
  },
  "language_info": {
   "codemirror_mode": {
    "name": "ipython",
    "version": 3
   },
   "file_extension": ".py",
   "mimetype": "text/x-python",
   "name": "python",
   "nbconvert_exporter": "python",
   "pygments_lexer": "ipython3",
   "version": "3.12.9"
  }
 },
 "nbformat": 4,
 "nbformat_minor": 2
}
